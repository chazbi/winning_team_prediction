{
 "cells": [
  {
   "cell_type": "code",
   "execution_count": 1,
   "metadata": {},
   "outputs": [],
   "source": [
    "import numpy as np\n",
    "import pandas as pd\n",
    "import time\n",
    "from itertools import combinations\n",
    "from sklearn.neighbors import KNeighborsClassifier\n",
    "from sklearn.svm import SVC,NuSVC\n",
    "from sklearn.naive_bayes import GaussianNB\n",
    "from sklearn.tree import DecisionTreeClassifier\n",
    "from sklearn.ensemble import RandomForestClassifier\n",
    "from sklearn.linear_model import SGDClassifier\n",
    "from sklearn.linear_model import LogisticRegression\n",
    "from sklearn.neural_network import MLPClassifier\n",
    "from sklearn.model_selection import train_test_split\n",
    "from sklearn.ensemble import VotingClassifier\n",
    "from sklearn.ensemble import AdaBoostClassifier\n",
    "import sys\n",
    "from sklearn.metrics import classification_report\n",
    "import seaborn as sns\n",
    "import matplotlib.pyplot as plt\n",
    "import sklearn.preprocessing as preprocessing\n",
    "from sklearn.preprocessing import LabelEncoder, OneHotEncoder\n",
    "import warnings\n",
    "warnings.filterwarnings(\"ignore\")\n",
    "from sklearn.model_selection import train_test_split\n",
    "from sklearn.metrics import confusion_matrix\n",
    "from sklearn.model_selection import GridSearchCV\n",
    "import copy\n",
    "from sklearn.discriminant_analysis import LinearDiscriminantAnalysis\n",
    "import collections\n",
    "import statsmodels.formula.api as sm"
   ]
  },
  {
   "cell_type": "code",
   "execution_count": 4,
   "metadata": {},
   "outputs": [],
   "source": [
    "subbig = pd.read_csv('submissions/submission_ridge.csv')\n",
    "subnew = pd.read_csv('submissions/submission_ridge_12072.csv')\n",
    "subchaz = pd.read_csv('submissions/submission_ridge_whole_train.csv')"
   ]
  },
  {
   "cell_type": "code",
   "execution_count": 8,
   "metadata": {},
   "outputs": [
    {
     "data": {
      "text/plain": [
       "0.6911407766990292"
      ]
     },
     "execution_count": 8,
     "metadata": {},
     "output_type": "execute_result"
    }
   ],
   "source": [
    "np.mean(subnew.HTWins == subchaz.HTWins)"
   ]
  },
  {
   "cell_type": "code",
   "execution_count": 2,
   "metadata": {},
   "outputs": [],
   "source": [
    "df = pd.read_csv('train_156.csv')\n",
    "df2 = pd.read_csv('test_155.csv')\n",
    "df.drop('Unnamed: 0', axis = 1, inplace = True)\n",
    "df2.drop('Unnamed: 0', axis = 1, inplace = True)"
   ]
  },
  {
   "cell_type": "code",
   "execution_count": 3,
   "metadata": {},
   "outputs": [],
   "source": [
    "dfr = df.loc[:, 'VT':]\n",
    "dft = df.loc[:,\"HTWins\"]\n",
    "le = LabelEncoder()\n",
    "le.fit(list(collections.Counter(dfr.VTleague).keys()))\n",
    "dfr.VTleague = le.transform(dfr.VTleague)\n",
    "le.fit(list(collections.Counter(dfr.HTleague).keys()))\n",
    "dfr.HTleague = le.transform(dfr.HTleague)\n",
    "le.fit(list(collections.Counter(dfr.HT).keys()))\n",
    "dfr.HT = le.transform(dfr.HT)\n",
    "le.fit(list(collections.Counter(dfr.VT).keys()))\n",
    "dfr.VT = le.transform(dfr.VT)"
   ]
  },
  {
   "cell_type": "code",
   "execution_count": 4,
   "metadata": {},
   "outputs": [],
   "source": [
    "hj = \"\"\"VT.S1.plmin+VT.OS3.plmin+VT.OS1.plmin+VT.OTA.ast+VT.S3.plmin+VT.OS4.plmin+VT.S2.plmin+VT.OS2.plmin+VT.OTS.fgm+HT.S3.pts+VT.TA.pts+HT.S1.pts+VT.S4.plmin+VT.TA.ast+VT.OTA.dreb+VT.S5.stl+VT.OTS.pts+HT.OS3.dreb+VT.OS4.dreb\"\"\".split('+')"
   ]
  },
  {
   "cell_type": "code",
   "execution_count": 5,
   "metadata": {},
   "outputs": [
    {
     "data": {
      "text/html": [
       "<div>\n",
       "<style scoped>\n",
       "    .dataframe tbody tr th:only-of-type {\n",
       "        vertical-align: middle;\n",
       "    }\n",
       "\n",
       "    .dataframe tbody tr th {\n",
       "        vertical-align: top;\n",
       "    }\n",
       "\n",
       "    .dataframe thead th {\n",
       "        text-align: right;\n",
       "    }\n",
       "</style>\n",
       "<table border=\"1\" class=\"dataframe\">\n",
       "  <thead>\n",
       "    <tr style=\"text-align: right;\">\n",
       "      <th></th>\n",
       "      <th>VT.S1.plmin</th>\n",
       "      <th>VT.OS3.plmin</th>\n",
       "      <th>VT.OS1.plmin</th>\n",
       "      <th>VT.OTA.ast</th>\n",
       "      <th>VT.S3.plmin</th>\n",
       "      <th>VT.OS4.plmin</th>\n",
       "      <th>VT.S2.plmin</th>\n",
       "      <th>VT.OS2.plmin</th>\n",
       "      <th>VT.OTS.fgm</th>\n",
       "      <th>HT.S3.pts</th>\n",
       "      <th>VT.TA.pts</th>\n",
       "      <th>HT.S1.pts</th>\n",
       "      <th>VT.S4.plmin</th>\n",
       "      <th>VT.TA.ast</th>\n",
       "      <th>VT.OTA.dreb</th>\n",
       "      <th>VT.S5.stl</th>\n",
       "      <th>VT.OTS.pts</th>\n",
       "      <th>HT.OS3.dreb</th>\n",
       "      <th>VT.OS4.dreb</th>\n",
       "    </tr>\n",
       "  </thead>\n",
       "  <tbody>\n",
       "    <tr>\n",
       "      <th>0</th>\n",
       "      <td>6.00356</td>\n",
       "      <td>-1.82521</td>\n",
       "      <td>8.13090</td>\n",
       "      <td>18.44003</td>\n",
       "      <td>3.00893</td>\n",
       "      <td>3.88749</td>\n",
       "      <td>4.67069</td>\n",
       "      <td>4.76800</td>\n",
       "      <td>35.68173</td>\n",
       "      <td>12.43087</td>\n",
       "      <td>92.41832</td>\n",
       "      <td>19.05546</td>\n",
       "      <td>1.66659</td>\n",
       "      <td>16.99671</td>\n",
       "      <td>28.97146</td>\n",
       "      <td>0.35244</td>\n",
       "      <td>95.67931</td>\n",
       "      <td>4.45854</td>\n",
       "      <td>2.10702</td>\n",
       "    </tr>\n",
       "    <tr>\n",
       "      <th>1</th>\n",
       "      <td>-4.29929</td>\n",
       "      <td>0.94270</td>\n",
       "      <td>2.31685</td>\n",
       "      <td>15.88236</td>\n",
       "      <td>-4.94617</td>\n",
       "      <td>8.38263</td>\n",
       "      <td>-3.17935</td>\n",
       "      <td>2.31911</td>\n",
       "      <td>39.60178</td>\n",
       "      <td>10.93412</td>\n",
       "      <td>94.37342</td>\n",
       "      <td>18.85648</td>\n",
       "      <td>-4.87218</td>\n",
       "      <td>19.34533</td>\n",
       "      <td>33.20054</td>\n",
       "      <td>0.20237</td>\n",
       "      <td>101.88801</td>\n",
       "      <td>4.22546</td>\n",
       "      <td>4.55217</td>\n",
       "    </tr>\n",
       "    <tr>\n",
       "      <th>2</th>\n",
       "      <td>5.33447</td>\n",
       "      <td>3.44609</td>\n",
       "      <td>1.33395</td>\n",
       "      <td>23.03062</td>\n",
       "      <td>2.47097</td>\n",
       "      <td>0.89073</td>\n",
       "      <td>2.76411</td>\n",
       "      <td>2.89079</td>\n",
       "      <td>36.07819</td>\n",
       "      <td>13.24354</td>\n",
       "      <td>96.08555</td>\n",
       "      <td>16.98558</td>\n",
       "      <td>2.05847</td>\n",
       "      <td>20.46105</td>\n",
       "      <td>31.15797</td>\n",
       "      <td>1.06787</td>\n",
       "      <td>98.29040</td>\n",
       "      <td>3.87238</td>\n",
       "      <td>5.38000</td>\n",
       "    </tr>\n",
       "    <tr>\n",
       "      <th>3</th>\n",
       "      <td>-3.88569</td>\n",
       "      <td>-3.94261</td>\n",
       "      <td>-0.56155</td>\n",
       "      <td>22.32009</td>\n",
       "      <td>2.17797</td>\n",
       "      <td>-1.29366</td>\n",
       "      <td>-6.50419</td>\n",
       "      <td>-2.64727</td>\n",
       "      <td>38.17520</td>\n",
       "      <td>10.16629</td>\n",
       "      <td>94.60220</td>\n",
       "      <td>22.98232</td>\n",
       "      <td>-1.23816</td>\n",
       "      <td>19.81513</td>\n",
       "      <td>27.86553</td>\n",
       "      <td>0.00132</td>\n",
       "      <td>99.02270</td>\n",
       "      <td>1.57741</td>\n",
       "      <td>3.51931</td>\n",
       "    </tr>\n",
       "    <tr>\n",
       "      <th>4</th>\n",
       "      <td>-1.29586</td>\n",
       "      <td>6.72873</td>\n",
       "      <td>6.11820</td>\n",
       "      <td>19.18875</td>\n",
       "      <td>0.33257</td>\n",
       "      <td>6.06255</td>\n",
       "      <td>-1.29616</td>\n",
       "      <td>4.37270</td>\n",
       "      <td>34.01666</td>\n",
       "      <td>12.77098</td>\n",
       "      <td>93.37065</td>\n",
       "      <td>18.01167</td>\n",
       "      <td>-1.46404</td>\n",
       "      <td>18.45130</td>\n",
       "      <td>28.99182</td>\n",
       "      <td>0.62256</td>\n",
       "      <td>91.89461</td>\n",
       "      <td>5.72281</td>\n",
       "      <td>2.65682</td>\n",
       "    </tr>\n",
       "  </tbody>\n",
       "</table>\n",
       "</div>"
      ],
      "text/plain": [
       "   VT.S1.plmin  VT.OS3.plmin  VT.OS1.plmin  VT.OTA.ast  VT.S3.plmin  \\\n",
       "0      6.00356      -1.82521       8.13090    18.44003      3.00893   \n",
       "1     -4.29929       0.94270       2.31685    15.88236     -4.94617   \n",
       "2      5.33447       3.44609       1.33395    23.03062      2.47097   \n",
       "3     -3.88569      -3.94261      -0.56155    22.32009      2.17797   \n",
       "4     -1.29586       6.72873       6.11820    19.18875      0.33257   \n",
       "\n",
       "   VT.OS4.plmin  VT.S2.plmin  VT.OS2.plmin  VT.OTS.fgm  HT.S3.pts  VT.TA.pts  \\\n",
       "0       3.88749      4.67069       4.76800    35.68173   12.43087   92.41832   \n",
       "1       8.38263     -3.17935       2.31911    39.60178   10.93412   94.37342   \n",
       "2       0.89073      2.76411       2.89079    36.07819   13.24354   96.08555   \n",
       "3      -1.29366     -6.50419      -2.64727    38.17520   10.16629   94.60220   \n",
       "4       6.06255     -1.29616       4.37270    34.01666   12.77098   93.37065   \n",
       "\n",
       "   HT.S1.pts  VT.S4.plmin  VT.TA.ast  VT.OTA.dreb  VT.S5.stl  VT.OTS.pts  \\\n",
       "0   19.05546      1.66659   16.99671     28.97146    0.35244    95.67931   \n",
       "1   18.85648     -4.87218   19.34533     33.20054    0.20237   101.88801   \n",
       "2   16.98558      2.05847   20.46105     31.15797    1.06787    98.29040   \n",
       "3   22.98232     -1.23816   19.81513     27.86553    0.00132    99.02270   \n",
       "4   18.01167     -1.46404   18.45130     28.99182    0.62256    91.89461   \n",
       "\n",
       "   HT.OS3.dreb  VT.OS4.dreb  \n",
       "0      4.45854      2.10702  \n",
       "1      4.22546      4.55217  \n",
       "2      3.87238      5.38000  \n",
       "3      1.57741      3.51931  \n",
       "4      5.72281      2.65682  "
      ]
     },
     "execution_count": 5,
     "metadata": {},
     "output_type": "execute_result"
    }
   ],
   "source": [
    "dfhj = dfr[hj]\n",
    "dfhj.head()"
   ]
  },
  {
   "cell_type": "code",
   "execution_count": 6,
   "metadata": {},
   "outputs": [
    {
     "data": {
      "text/plain": [
       "(9520, 19)"
      ]
     },
     "execution_count": 6,
     "metadata": {},
     "output_type": "execute_result"
    }
   ],
   "source": [
    "dfhj.shape"
   ]
  },
  {
   "cell_type": "markdown",
   "metadata": {},
   "source": [
    "## Var Select"
   ]
  },
  {
   "cell_type": "code",
   "execution_count": 67,
   "metadata": {},
   "outputs": [
    {
     "data": {
      "text/plain": [
       "<matplotlib.axes._subplots.AxesSubplot at 0x2d932a06d30>"
      ]
     },
     "execution_count": 67,
     "metadata": {},
     "output_type": "execute_result"
    },
    {
     "data": {
      "image/png": "[encoded data removed]",
      "text/plain": [
       "<Figure size 432x288 with 2 Axes>"
      ]
     },
     "metadata": {
      "needs_background": "light"
     },
     "output_type": "display_data"
    }
   ],
   "source": [
    "corr = dfr.corr()\n",
    "sns.heatmap(corr)"
   ]
  },
  {
   "cell_type": "code",
   "execution_count": 11,
   "metadata": {},
   "outputs": [],
   "source": [
    "# Drop >0.9 corr ones\n",
    "columns = np.full((corr.shape[0],), True, dtype=bool)\n",
    "for i in range(corr.shape[0]):\n",
    "    for j in range(i+1, corr.shape[0]):\n",
    "        if corr.iloc[i,j] >= 0.9:\n",
    "            if columns[j]:\n",
    "                columns[j] = False\n",
    "selected_columns = dfr.columns[columns]\n",
    "dfr = dfr[selected_columns]"
   ]
  },
  {
   "cell_type": "code",
   "execution_count": 12,
   "metadata": {},
   "outputs": [],
   "source": [
    "def backwardElimination(x, Y, sl, columns):\n",
    "    numVars = len(x[0])\n",
    "    for i in range(0, numVars):\n",
    "        regressor_OLS = sm.OLS(Y, x).fit()\n",
    "        maxVar = max(regressor_OLS.pvalues).astype(float)\n",
    "        if maxVar > sl:\n",
    "            for j in range(0, numVars - i):\n",
    "                if (regressor_OLS.pvalues[j].astype(float) == maxVar):\n",
    "                    x = np.delete(x, j, 1)\n",
    "                    columns = np.delete(columns, j)\n",
    "                    \n",
    "    regressor_OLS.summary()\n",
    "    return x, columns"
   ]
  },
  {
   "cell_type": "code",
   "execution_count": 13,
   "metadata": {},
   "outputs": [],
   "source": [
    "SL = 0.005\n",
    "data_modeled, selected_columns = backwardElimination(dfr.values, dft.values, SL, selected_columns)"
   ]
  },
  {
   "cell_type": "code",
   "execution_count": 69,
   "metadata": {},
   "outputs": [],
   "source": [
    "result = pd.DataFrame()\n",
    "result['HTWins'] = dft\n",
    "data = pd.DataFrame(data = data_modeled, columns = selected_columns)"
   ]
  },
  {
   "cell_type": "code",
   "execution_count": 70,
   "metadata": {},
   "outputs": [
    {
     "data": {
      "text/plain": [
       "<matplotlib.axes._subplots.AxesSubplot at 0x2d92fd856d8>"
      ]
     },
     "execution_count": 70,
     "metadata": {},
     "output_type": "execute_result"
    },
    {
     "data": {
      "image/png": "[encoded data removed]",
      "text/plain": [
       "<Figure size 432x288 with 2 Axes>"
      ]
     },
     "metadata": {
      "needs_background": "light"
     },
     "output_type": "display_data"
    }
   ],
   "source": [
    "corr = data.corr()\n",
    "sns.heatmap(corr)"
   ]
  },
  {
   "cell_type": "code",
   "execution_count": 68,
   "metadata": {},
   "outputs": [],
   "source": [
    "data_modeled, selected_columns = backwardElimination(data.values, dft.values, 0.01, selected_columns)"
   ]
  },
  {
   "cell_type": "code",
   "execution_count": 71,
   "metadata": {},
   "outputs": [
    {
     "data": {
      "text/plain": [
       "(9520, 22)"
      ]
     },
     "execution_count": 71,
     "metadata": {},
     "output_type": "execute_result"
    }
   ],
   "source": [
    "data.shape"
   ]
  },
  {
   "cell_type": "code",
   "execution_count": 35,
   "metadata": {},
   "outputs": [],
   "source": [
    "newcol=data.columns.tolist()+hj"
   ]
  },
  {
   "cell_type": "code",
   "execution_count": 60,
   "metadata": {},
   "outputs": [],
   "source": [
    "data = dfr[selected_columns]"
   ]
  },
  {
   "cell_type": "code",
   "execution_count": 61,
   "metadata": {},
   "outputs": [],
   "source": [
    "dtest=df2[selected_columns]"
   ]
  },
  {
   "cell_type": "code",
   "execution_count": 47,
   "metadata": {},
   "outputs": [],
   "source": [
    "# Drop >0.8 corr ones\n",
    "columns = np.full((corr.shape[0],), True, dtype=bool)\n",
    "for i in range(corr.shape[0]):\n",
    "    for j in range(i+1, corr.shape[0]):\n",
    "        if corr.iloc[i,j] >= 0.8:\n",
    "            if columns[j]:\n",
    "                columns[j] = False\n",
    "selected_columns = data.columns[columns]\n",
    "data = data[selected_columns]"
   ]
  },
  {
   "cell_type": "code",
   "execution_count": 62,
   "metadata": {},
   "outputs": [
    {
     "data": {
      "text/plain": [
       "Index(['VT.TS.fga', 'VT.TS.fta', 'VT.TS.pts', 'VT.TA.fgm', 'VT.TA.tpa',\n",
       "       'VT.TA.fta', 'VT.OTS.fgm', 'VT.OTS.pts', 'VT.OTA.fgm', 'VT.OTA.fta',\n",
       "       'VT.OTA.ast', 'VT.OTA.blk', 'VT.S5.pts', 'VT.OS1.plmin', 'VT.OS3.plmin',\n",
       "       'VT.OS3.fgm', 'VT.OS4.dreb', 'HT.S1.pts', 'HT.OS1.dreb', 'HT.OS2.oreb',\n",
       "       'HT.OS3.dreb', 'HT.OS4.oreb', 'HT.OS5.oreb', 'VT.S1.plmin',\n",
       "       'VT.S3.plmin', 'VT.OS4.plmin', 'VT.S2.plmin', 'VT.OS2.plmin',\n",
       "       'VT.S4.plmin', 'VT.TA.ast', 'VT.OTA.dreb', 'VT.S5.stl'],\n",
       "      dtype='object')"
      ]
     },
     "execution_count": 62,
     "metadata": {},
     "output_type": "execute_result"
    }
   ],
   "source": [
    "data.columns"
   ]
  },
  {
   "cell_type": "code",
   "execution_count": 52,
   "metadata": {},
   "outputs": [
    {
     "data": {
      "text/plain": [
       "59"
      ]
     },
     "execution_count": 52,
     "metadata": {},
     "output_type": "execute_result"
    }
   ],
   "source": [
    "len(newcol)"
   ]
  },
  {
   "cell_type": "code",
   "execution_count": 72,
   "metadata": {},
   "outputs": [],
   "source": [
    "x_train, x_test, y_train, y_test = train_test_split(preprocessing.normalize(data.values), result.values, test_size = 0.2)"
   ]
  },
  {
   "cell_type": "markdown",
   "metadata": {},
   "source": [
    "## Model Fitting"
   ]
  },
  {
   "cell_type": "code",
   "execution_count": 7,
   "metadata": {},
   "outputs": [],
   "source": [
    "# The following def are packages training, which can be searched on sklearn\n",
    "\n",
    "def KNN(n,x,y):\n",
    "    knn = KNeighborsClassifier(n_neighbors=n, n_jobs=-1)\n",
    "    knn.fit(x,y)\n",
    "    return knn\n",
    "\n",
    "\n",
    "def SVM(x,y):\n",
    "    svc = SVC()\n",
    "    svc.fit(x,y)\n",
    "    return svc\n",
    "\n",
    "\n",
    "def NuSVM(x,y):\n",
    "    nus = [_ / 10 for _ in range(1, 11, 1)]\n",
    "    for nu in nus:\n",
    "        nusvc = NuSVC(nu=nu)\n",
    "        try:\n",
    "            nusvc.fit(x,y)\n",
    "            return nusvc\n",
    "        except ValueError as e:\n",
    "            print(\"nu {} not feasible\".format(nu))\n",
    "\n",
    "def Bayesian(x,y):\n",
    "    bayesian = GaussianNB()\n",
    "    bayesian.fit(x,y)\n",
    "    return bayesian\n",
    "\n",
    "\n",
    "def DecisionTree(x,y,criterion='gini',max_depth=None, min_samples_split=2, min_samples_leaf=1, max_features=None):\n",
    "    Tree = DecisionTreeClassifier(criterion=criterion,max_depth=max_depth,min_samples_split= \\\n",
    "                                               min_samples_split,min_samples_leaf=min_samples_leaf,\n",
    "                                               max_features=max_features)\n",
    "    Tree.fit(x,y)\n",
    "    return Tree\n",
    "\n",
    "\n",
    "def RandomForest(x,y,n_estimator=10,criterion='gini'):\n",
    "    Forest = RandomForestClassifier(n_estimators=n_estimator,criterion=criterion)\n",
    "    Forest.fit(x,y)\n",
    "    return Forest\n",
    "\n",
    "\n",
    "def LinearC(x,y):\n",
    "    linear = SGDClassifier()\n",
    "    linear.fit(x,y)\n",
    "    return linear\n",
    "\n",
    "\n",
    "def MLP(x,y,hidden_layer_size=(100,),activation='relu',solver='adam',learning_rate_init=0.01, learning_rate='adaptive'):\n",
    "    if solver=='adam':\n",
    "        MLP = MLPClassifier(hidden_layer_sizes=hidden_layer_size, activation=activation, solver= \\\n",
    "                                               solver, learning_rate_init=learning_rate_init, learning_rate=learning_rate)\n",
    "    elif solver=='sgd':\n",
    "        MLP = MLPClassifier(hidden_layer_sizes=hidden_layer_size, activation=activation, solver= \\\n",
    "            solver, learning_rate_init=learning_rate_init)\n",
    "    else:\n",
    "        MLP = MLPClassifier(hidden_layer_sizes=hidden_layer_size, activation=activation, solver= \\\n",
    "            solver)\n",
    "    MLP.fit(x,y)\n",
    "    return MLP"
   ]
  },
  {
   "cell_type": "code",
   "execution_count": 8,
   "metadata": {},
   "outputs": [],
   "source": [
    "# Hand Written Soft Voting\n",
    "def Vote(Classifier,Prediction,Score):\n",
    "    leng = len(Classifier)\n",
    "    sum_score = sum(Score)\n",
    "    Weighted = 0\n",
    "    for i in range(leng):\n",
    "        Weighted += Prediction[i]*Score[i]/sum_score\n",
    "    return Weighted"
   ]
  },
  {
   "cell_type": "code",
   "execution_count": 9,
   "metadata": {},
   "outputs": [],
   "source": [
    "# Model Prediction\n",
    "def model_predict(model,x):\n",
    "    return model.predict(x)"
   ]
  },
  {
   "cell_type": "code",
   "execution_count": 10,
   "metadata": {},
   "outputs": [],
   "source": [
    "Classifiers = []\n",
    "# If I comment the append instruction, the algorithm is not included into bagging or boosting\n",
    "clf1 = KNeighborsClassifier(n_neighbors=2)\n",
    "#Classifiers.append(('KNeighborsClassifier',clf1))\n",
    "clf2 = SVC(probability=True)\n",
    "Classifiers.append(('SVC',clf2))\n",
    "clf3 = NuSVC(nu=0.1,probability=True)\n",
    "Classifiers.append(('NuSVC',clf3))\n",
    "clf4 = GaussianNB()\n",
    "Classifiers.append(('GaussianNB',clf4))\n",
    "clf5 = DecisionTreeClassifier()\n",
    "Classifiers.append(('DecisionTreeClassifier',clf5))\n",
    "clf6 = RandomForestClassifier(n_estimators=2,criterion='gini')\n",
    "Classifiers.append(('RandomForestClassifier1',clf6))\n",
    "clf7 = RandomForestClassifier(n_estimators=2,criterion='entropy')\n",
    "Classifiers.append(('RandomForestClassifier2',clf7))\n",
    "clf8 = SGDClassifier(loss='modified_huber')\n",
    "Classifiers.append(('SGDClassifier',clf8))\n",
    "clf9 = MLPClassifier()\n",
    "#Classifiers.append(('MLPClassifier',clf9))\n",
    "\n",
    "# Create two bagging classifiers\n",
    "eclf1 = VotingClassifier(estimators=Classifiers,voting='hard')\n",
    "eclf2 = VotingClassifier(estimators=Classifiers,voting='soft')"
   ]
  },
  {
   "cell_type": "markdown",
   "metadata": {},
   "source": [
    "### AdaBoost w soft bagging"
   ]
  },
  {
   "cell_type": "code",
   "execution_count": 31,
   "metadata": {},
   "outputs": [
    {
     "name": "stdout",
     "output_type": "stream",
     "text": [
      "Classification Report of Boosting: \n",
      "              precision    recall  f1-score   support\n",
      "\n",
      "           0       0.61      0.47      0.53       756\n",
      "           1       0.70      0.80      0.74      1148\n",
      "\n",
      "   micro avg       0.67      0.67      0.67      1904\n",
      "   macro avg       0.65      0.63      0.64      1904\n",
      "weighted avg       0.66      0.67      0.66      1904\n",
      "\n",
      "Time Cost for the Program: 224.0343325138092\n"
     ]
    }
   ],
   "source": [
    "start_time = time.time()\n",
    "# Create the boosting classifier based on soft bagging\n",
    "Boost = AdaBoostClassifier(base_estimator=eclf2,n_estimators=10)\n",
    "Boost.fit(x_train,y_train)\n",
    "score = Boost.score(x_test,y_test)\n",
    "pred = Boost.predict(x_test)\n",
    "sub2 = Boost.predict(dtest.values)\n",
    "print(\"Classification Report of Boosting: \")\n",
    "print(classification_report(y_test,pred))\n",
    "print('Time Cost for the Program: %s' % (time.time()-start_time))"
   ]
  },
  {
   "cell_type": "code",
   "execution_count": 25,
   "metadata": {},
   "outputs": [
    {
     "name": "stdout",
     "output_type": "stream",
     "text": [
      "Classification Report of Boosting: \n",
      "              precision    recall  f1-score   support\n",
      "\n",
      "           0       1.00      1.00      1.00       756\n",
      "           1       1.00      1.00      1.00      1148\n",
      "\n",
      "   micro avg       1.00      1.00      1.00      1904\n",
      "   macro avg       1.00      1.00      1.00      1904\n",
      "weighted avg       1.00      1.00      1.00      1904\n",
      "\n",
      "Time Cost for the Program: 360.32200384140015\n"
     ]
    }
   ],
   "source": [
    "start_time = time.time()\n",
    "# Create the boosting classifier based on soft bagging - entire dataset\n",
    "Boost = AdaBoostClassifier(base_estimator=eclf2,n_estimators=10)\n",
    "Boost.fit(data.values,result.values)\n",
    "score = Boost.score(x_test,y_test)\n",
    "pred = Boost.predict(x_test)\n",
    "sub = Boost.predict(dtest.values)\n",
    "print(\"Classification Report of Boosting: \")\n",
    "print(classification_report(y_test,pred))\n",
    "print('Time Cost for the Program: %s' % (time.time()-start_time))"
   ]
  },
  {
   "cell_type": "code",
   "execution_count": 32,
   "metadata": {},
   "outputs": [
    {
     "data": {
      "text/plain": [
       "0.7773058252427184"
      ]
     },
     "execution_count": 32,
     "metadata": {},
     "output_type": "execute_result"
    }
   ],
   "source": [
    "sum(sub2 == sub)/len(sub)"
   ]
  },
  {
   "cell_type": "markdown",
   "metadata": {},
   "source": [
    "### Bagging"
   ]
  },
  {
   "cell_type": "code",
   "execution_count": 77,
   "metadata": {},
   "outputs": [
    {
     "name": "stdout",
     "output_type": "stream",
     "text": [
      "KNN Train Finished\n",
      "SVM Train Finished\n",
      "NuSVM Train Finished\n",
      "Bayesian Train Finished\n",
      "Decision Tree Train Finished\n",
      "Random Forest Gini Train Finished\n",
      "Random Forest Entropy Train Finished\n",
      "Linear Model Train Finished\n",
      "MLP Train Finished\n",
      "LDA Train Finished\n",
      "LogReg Train Finished\n"
     ]
    }
   ],
   "source": [
    "# Hand Written Bagging\n",
    "Classifier = []\n",
    "Score = []\n",
    "Prediction = []\n",
    "Classifier.append(KNN(2,x_train,y_train))\n",
    "print('KNN Train Finished')\n",
    "Classifier.append(SVM(x_train,y_train))\n",
    "print('SVM Train Finished')\n",
    "Classifier.append(NuSVM(x_train,y_train))\n",
    "print('NuSVM Train Finished')\n",
    "Classifier.append(Bayesian(x_train,y_train))\n",
    "print('Bayesian Train Finished')\n",
    "Classifier.append(DecisionTree(x_train,y_train))\n",
    "print('Decision Tree Train Finished')\n",
    "Classifier.append(RandomForest(x_train,y_train,n_estimator=2))\n",
    "print('Random Forest Gini Train Finished')\n",
    "Classifier.append(RandomForest(x_train,y_train,n_estimator=2,criterion='entropy'))\n",
    "print('Random Forest Entropy Train Finished')\n",
    "Classifier.append(LinearC(x_train,y_train))\n",
    "print('Linear Model Train Finished')\n",
    "Classifier.append(MLP(x_train,y_train))\n",
    "print('MLP Train Finished')\n",
    "Classifier.append(LinearDiscriminantAnalysis().fit(x_train, y_train))\n",
    "print('LDA Train Finished')\n",
    "Classifier.append(LogisticRegression(random_state=101).fit(x_train, y_train))\n",
    "print('LogReg Train Finished')"
   ]
  },
  {
   "cell_type": "code",
   "execution_count": 78,
   "metadata": {
    "scrolled": false
   },
   "outputs": [
    {
     "name": "stdout",
     "output_type": "stream",
     "text": [
      "Classification Report: KNeighborsClassifier(algorithm='auto', leaf_size=30, metric='minkowski',\n",
      "           metric_params=None, n_jobs=-1, n_neighbors=2, p=2,\n",
      "           weights='uniform')\n",
      "              precision    recall  f1-score   support\n",
      "\n",
      "           0       0.49      0.73      0.59       788\n",
      "           1       0.71      0.46      0.56      1116\n",
      "\n",
      "   micro avg       0.57      0.57      0.57      1904\n",
      "   macro avg       0.60      0.60      0.57      1904\n",
      "weighted avg       0.62      0.57      0.57      1904\n",
      "\n",
      "Classification Report: SVC(C=1.0, cache_size=200, class_weight=None, coef0=0.0,\n",
      "  decision_function_shape='ovr', degree=3, gamma='auto_deprecated',\n",
      "  kernel='rbf', max_iter=-1, probability=False, random_state=None,\n",
      "  shrinking=True, tol=0.001, verbose=False)\n",
      "              precision    recall  f1-score   support\n",
      "\n",
      "           0       0.00      0.00      0.00       788\n",
      "           1       0.59      1.00      0.74      1116\n",
      "\n",
      "   micro avg       0.59      0.59      0.59      1904\n",
      "   macro avg       0.29      0.50      0.37      1904\n",
      "weighted avg       0.34      0.59      0.43      1904\n",
      "\n",
      "Classification Report: NuSVC(cache_size=200, class_weight=None, coef0=0.0,\n",
      "   decision_function_shape='ovr', degree=3, gamma='auto_deprecated',\n",
      "   kernel='rbf', max_iter=-1, nu=0.1, probability=False, random_state=None,\n",
      "   shrinking=True, tol=0.001, verbose=False)\n",
      "              precision    recall  f1-score   support\n",
      "\n",
      "           0       0.34      0.53      0.41       788\n",
      "           1       0.44      0.26      0.33      1116\n",
      "\n",
      "   micro avg       0.37      0.37      0.37      1904\n",
      "   macro avg       0.39      0.40      0.37      1904\n",
      "weighted avg       0.40      0.37      0.36      1904\n",
      "\n",
      "Classification Report: GaussianNB(priors=None, var_smoothing=1e-09)\n",
      "              precision    recall  f1-score   support\n",
      "\n",
      "           0       0.60      0.59      0.60       788\n",
      "           1       0.71      0.72      0.72      1116\n",
      "\n",
      "   micro avg       0.67      0.67      0.67      1904\n",
      "   macro avg       0.66      0.66      0.66      1904\n",
      "weighted avg       0.67      0.67      0.67      1904\n",
      "\n",
      "Classification Report: DecisionTreeClassifier(class_weight=None, criterion='gini', max_depth=None,\n",
      "            max_features=None, max_leaf_nodes=None,\n",
      "            min_impurity_decrease=0.0, min_impurity_split=None,\n",
      "            min_samples_leaf=1, min_samples_split=2,\n",
      "            min_weight_fraction_leaf=0.0, presort=False, random_state=None,\n",
      "            splitter='best')\n",
      "              precision    recall  f1-score   support\n",
      "\n",
      "           0       0.48      0.46      0.47       788\n",
      "           1       0.63      0.65      0.64      1116\n",
      "\n",
      "   micro avg       0.57      0.57      0.57      1904\n",
      "   macro avg       0.56      0.56      0.56      1904\n",
      "weighted avg       0.57      0.57      0.57      1904\n",
      "\n",
      "Classification Report: RandomForestClassifier(bootstrap=True, class_weight=None, criterion='gini',\n",
      "            max_depth=None, max_features='auto', max_leaf_nodes=None,\n",
      "            min_impurity_decrease=0.0, min_impurity_split=None,\n",
      "            min_samples_leaf=1, min_samples_split=2,\n",
      "            min_weight_fraction_leaf=0.0, n_estimators=2, n_jobs=None,\n",
      "            oob_score=False, random_state=None, verbose=0,\n",
      "            warm_start=False)\n",
      "              precision    recall  f1-score   support\n",
      "\n",
      "           0       0.45      0.69      0.55       788\n",
      "           1       0.65      0.41      0.51      1116\n",
      "\n",
      "   micro avg       0.53      0.53      0.53      1904\n",
      "   macro avg       0.55      0.55      0.53      1904\n",
      "weighted avg       0.57      0.53      0.52      1904\n",
      "\n",
      "Classification Report: RandomForestClassifier(bootstrap=True, class_weight=None, criterion='entropy',\n",
      "            max_depth=None, max_features='auto', max_leaf_nodes=None,\n",
      "            min_impurity_decrease=0.0, min_impurity_split=None,\n",
      "            min_samples_leaf=1, min_samples_split=2,\n",
      "            min_weight_fraction_leaf=0.0, n_estimators=2, n_jobs=None,\n",
      "            oob_score=False, random_state=None, verbose=0,\n",
      "            warm_start=False)\n",
      "              precision    recall  f1-score   support\n",
      "\n",
      "           0       0.48      0.71      0.57       788\n",
      "           1       0.69      0.45      0.55      1116\n",
      "\n",
      "   micro avg       0.56      0.56      0.56      1904\n",
      "   macro avg       0.58      0.58      0.56      1904\n",
      "weighted avg       0.60      0.56      0.56      1904\n",
      "\n",
      "Classification Report: SGDClassifier(alpha=0.0001, average=False, class_weight=None,\n",
      "       early_stopping=False, epsilon=0.1, eta0=0.0, fit_intercept=True,\n",
      "       l1_ratio=0.15, learning_rate='optimal', loss='hinge', max_iter=None,\n",
      "       n_iter=None, n_iter_no_change=5, n_jobs=None, penalty='l2',\n",
      "       power_t=0.5, random_state=None, shuffle=True, tol=None,\n",
      "       validation_fraction=0.1, verbose=0, warm_start=False)\n",
      "              precision    recall  f1-score   support\n",
      "\n",
      "           0       0.53      0.81      0.64       788\n",
      "           1       0.79      0.49      0.60      1116\n",
      "\n",
      "   micro avg       0.62      0.62      0.62      1904\n",
      "   macro avg       0.66      0.65      0.62      1904\n",
      "weighted avg       0.68      0.62      0.62      1904\n",
      "\n",
      "Classification Report: MLPClassifier(activation='relu', alpha=0.0001, batch_size='auto', beta_1=0.9,\n",
      "       beta_2=0.999, early_stopping=False, epsilon=1e-08,\n",
      "       hidden_layer_sizes=(100,), learning_rate='adaptive',\n",
      "       learning_rate_init=0.01, max_iter=200, momentum=0.9,\n",
      "       n_iter_no_change=10, nesterovs_momentum=True, power_t=0.5,\n",
      "       random_state=None, shuffle=True, solver='adam', tol=0.0001,\n",
      "       validation_fraction=0.1, verbose=False, warm_start=False)\n",
      "              precision    recall  f1-score   support\n",
      "\n",
      "           0       0.66      0.38      0.48       788\n",
      "           1       0.66      0.86      0.75      1116\n",
      "\n",
      "   micro avg       0.66      0.66      0.66      1904\n",
      "   macro avg       0.66      0.62      0.61      1904\n",
      "weighted avg       0.66      0.66      0.64      1904\n",
      "\n",
      "Classification Report: LinearDiscriminantAnalysis(n_components=None, priors=None, shrinkage=None,\n",
      "              solver='svd', store_covariance=False, tol=0.0001)\n",
      "              precision    recall  f1-score   support\n",
      "\n",
      "           0       0.66      0.48      0.55       788\n",
      "           1       0.69      0.82      0.75      1116\n",
      "\n",
      "   micro avg       0.68      0.68      0.68      1904\n",
      "   macro avg       0.67      0.65      0.65      1904\n",
      "weighted avg       0.68      0.68      0.67      1904\n",
      "\n",
      "Classification Report: LogisticRegression(C=1.0, class_weight=None, dual=False, fit_intercept=True,\n",
      "          intercept_scaling=1, max_iter=100, multi_class='warn',\n",
      "          n_jobs=None, penalty='l2', random_state=101, solver='warn',\n",
      "          tol=0.0001, verbose=0, warm_start=False)\n",
      "              precision    recall  f1-score   support\n",
      "\n",
      "           0       0.67      0.27      0.38       788\n",
      "           1       0.64      0.91      0.75      1116\n",
      "\n",
      "   micro avg       0.64      0.64      0.64      1904\n",
      "   macro avg       0.65      0.59      0.57      1904\n",
      "weighted avg       0.65      0.64      0.60      1904\n",
      "\n"
     ]
    }
   ],
   "source": [
    "# Test the Accuracy of Each Classifier\n",
    "for i in range(len(Classifier)):\n",
    "    num = 0\n",
    "    y_predict = Classifier[i].predict(x_test)\n",
    "    print(\"Classification Report: {}\".format(Classifier[i]))\n",
    "    print(classification_report(y_test,y_predict))\n",
    "    for j in range(x_test.shape[0]):\n",
    "        if y_predict[j]==y_test[j]:\n",
    "            num+=1\n",
    "    Score.append(num/x_test.shape[0])\n",
    "Overall_Acc = 0"
   ]
  },
  {
   "cell_type": "code",
   "execution_count": 29,
   "metadata": {},
   "outputs": [
    {
     "name": "stdout",
     "output_type": "stream",
     "text": [
      "HT.S3.pts\n",
      "HT.OS5.fgm\n"
     ]
    }
   ],
   "source": [
    "for i in selected_columns.tolist():\n",
    "    if i not in orils:\n",
    "        print(i)"
   ]
  },
  {
   "cell_type": "code",
   "execution_count": 30,
   "metadata": {},
   "outputs": [
    {
     "name": "stdout",
     "output_type": "stream",
     "text": [
      "VT.OTA.tpa\n"
     ]
    }
   ],
   "source": [
    "for i in orils:\n",
    "    if i not in selected_columns.tolist():\n",
    "        print(i)"
   ]
  },
  {
   "cell_type": "code",
   "execution_count": 28,
   "metadata": {},
   "outputs": [],
   "source": [
    "orils= \"\"\"VT.TS.fga\n",
    "VT.TS.fta\n",
    "VT.TS.pts\n",
    "VT.TA.fgm\n",
    "VT.TA.tpa\n",
    "VT.TA.fta\n",
    "VT.OTS.fgm\n",
    "VT.OTS.pts\n",
    "VT.OTA.fgm\n",
    "VT.OTA.tpa\n",
    "VT.OTA.fta\n",
    "VT.OTA.ast\n",
    "VT.OTA.blk\n",
    "VT.S5.pts\n",
    "VT.OS1.plmin\n",
    "VT.OS3.plmin\n",
    "VT.OS3.fgm\n",
    "VT.OS4.dreb\n",
    "HT.S1.pts\n",
    "HT.OS1.dreb\n",
    "HT.OS2.oreb\n",
    "HT.OS3.dreb\n",
    "HT.OS4.oreb\n",
    "HT.OS5.oreb\"\"\".split('\\n')"
   ]
  },
  {
   "cell_type": "markdown",
   "metadata": {},
   "source": [
    "## NN"
   ]
  },
  {
   "cell_type": "code",
   "execution_count": 46,
   "metadata": {},
   "outputs": [
    {
     "name": "stderr",
     "output_type": "stream",
     "text": [
      "Using TensorFlow backend.\n"
     ]
    }
   ],
   "source": [
    "import keras"
   ]
  },
  {
   "cell_type": "code",
   "execution_count": 92,
   "metadata": {},
   "outputs": [
    {
     "data": {
      "text/plain": [
       "array([[0., 1.],\n",
       "       [0., 1.],\n",
       "       [0., 1.],\n",
       "       [0., 1.],\n",
       "       [0., 1.]], dtype=float32)"
      ]
     },
     "execution_count": 92,
     "metadata": {},
     "output_type": "execute_result"
    }
   ],
   "source": [
    "from keras.utils import to_categorical\n",
    "#one-hot encode target column\n",
    "train_y_2 = to_categorical(y_train)\n",
    "\n",
    "#vcheck that target column has been converted\n",
    "train_y_2[0:5]\n"
   ]
  },
  {
   "cell_type": "code",
   "execution_count": 101,
   "metadata": {},
   "outputs": [
    {
     "data": {
      "text/plain": [
       "array([[0., 1.],\n",
       "       [0., 1.],\n",
       "       [1., 0.],\n",
       "       [1., 0.],\n",
       "       [0., 1.]], dtype=float32)"
      ]
     },
     "execution_count": 101,
     "metadata": {},
     "output_type": "execute_result"
    }
   ],
   "source": [
    "test_y_2 = to_categorical(y_test)\n",
    "\n",
    "#vcheck that target column has been converted\n",
    "test_y_2[0:5]"
   ]
  },
  {
   "cell_type": "code",
   "execution_count": 103,
   "metadata": {},
   "outputs": [
    {
     "data": {
      "text/plain": [
       "array([[1., 0.],\n",
       "       [0., 1.],\n",
       "       [1., 0.],\n",
       "       [1., 0.],\n",
       "       [0., 1.]], dtype=float32)"
      ]
     },
     "execution_count": 103,
     "metadata": {},
     "output_type": "execute_result"
    }
   ],
   "source": [
    "whole_y = to_categorical(result.values)\n",
    "\n",
    "#vcheck that target column has been converted\n",
    "whole_y[0:5]"
   ]
  },
  {
   "cell_type": "code",
   "execution_count": 104,
   "metadata": {},
   "outputs": [
    {
     "name": "stdout",
     "output_type": "stream",
     "text": [
      "Train on 6092 samples, validate on 1524 samples\n",
      "Epoch 1/50\n",
      "6092/6092 [==============================] - 2s 275us/step - loss: 0.6629 - accuracy: 0.6000 - val_loss: 0.6733 - val_accuracy: 0.6129\n",
      "Epoch 2/50\n",
      "6092/6092 [==============================] - 1s 158us/step - loss: 0.6379 - accuracy: 0.6339 - val_loss: 0.6357 - val_accuracy: 0.6496\n",
      "Epoch 3/50\n",
      "6092/6092 [==============================] - 1s 159us/step - loss: 0.6346 - accuracy: 0.6359 - val_loss: 0.6357 - val_accuracy: 0.6430\n",
      "Epoch 4/50\n",
      "6092/6092 [==============================] - 1s 158us/step - loss: 0.6291 - accuracy: 0.6495 - val_loss: 0.6350 - val_accuracy: 0.6522\n",
      "Epoch 5/50\n",
      "6092/6092 [==============================] - 1s 160us/step - loss: 0.6221 - accuracy: 0.6484 - val_loss: 0.6345 - val_accuracy: 0.6391\n",
      "Epoch 6/50\n",
      "6092/6092 [==============================] - 1s 161us/step - loss: 0.6233 - accuracy: 0.6530 - val_loss: 0.6262 - val_accuracy: 0.6549\n",
      "Epoch 7/50\n",
      "6092/6092 [==============================] - 1s 162us/step - loss: 0.6222 - accuracy: 0.6559 - val_loss: 0.6421 - val_accuracy: 0.6181\n",
      "Epoch 8/50\n",
      "6092/6092 [==============================] - 1s 160us/step - loss: 0.6202 - accuracy: 0.6576 - val_loss: 0.6335 - val_accuracy: 0.6325\n",
      "Epoch 9/50\n",
      "6092/6092 [==============================] - 1s 159us/step - loss: 0.6205 - accuracy: 0.6546 - val_loss: 0.6336 - val_accuracy: 0.6490\n",
      "Epoch 10/50\n",
      "6092/6092 [==============================] - 1s 164us/step - loss: 0.6187 - accuracy: 0.6599 - val_loss: 0.6251 - val_accuracy: 0.6634\n",
      "Epoch 11/50\n",
      "6092/6092 [==============================] - 1s 159us/step - loss: 0.6179 - accuracy: 0.6569 - val_loss: 0.6439 - val_accuracy: 0.6286\n",
      "Epoch 12/50\n",
      "6092/6092 [==============================] - 1s 163us/step - loss: 0.6160 - accuracy: 0.6591 - val_loss: 0.6160 - val_accuracy: 0.6634\n",
      "Epoch 13/50\n",
      "6092/6092 [==============================] - 1s 162us/step - loss: 0.6146 - accuracy: 0.6617 - val_loss: 0.6192 - val_accuracy: 0.6470\n",
      "Epoch 14/50\n",
      "6092/6092 [==============================] - 1s 160us/step - loss: 0.6078 - accuracy: 0.6622 - val_loss: 0.6134 - val_accuracy: 0.6647\n",
      "Epoch 15/50\n",
      "6092/6092 [==============================] - 1s 159us/step - loss: 0.6106 - accuracy: 0.6646 - val_loss: 0.6299 - val_accuracy: 0.6542\n",
      "Epoch 16/50\n",
      "6092/6092 [==============================] - 1s 162us/step - loss: 0.6160 - accuracy: 0.6568 - val_loss: 0.6322 - val_accuracy: 0.6516\n",
      "Epoch 17/50\n",
      "6092/6092 [==============================] - 1s 167us/step - loss: 0.6155 - accuracy: 0.6571 - val_loss: 0.6173 - val_accuracy: 0.6522\n",
      "Epoch 18/50\n",
      "6092/6092 [==============================] - 1s 167us/step - loss: 0.6077 - accuracy: 0.6668 - val_loss: 0.6252 - val_accuracy: 0.6476\n",
      "Epoch 19/50\n",
      "6092/6092 [==============================] - 1s 167us/step - loss: 0.6100 - accuracy: 0.6633 - val_loss: 0.6124 - val_accuracy: 0.6699\n",
      "Epoch 20/50\n",
      "6092/6092 [==============================] - 1s 168us/step - loss: 0.6127 - accuracy: 0.6635 - val_loss: 0.6169 - val_accuracy: 0.6581\n",
      "Epoch 21/50\n",
      "6092/6092 [==============================] - 1s 165us/step - loss: 0.6071 - accuracy: 0.6622 - val_loss: 0.6102 - val_accuracy: 0.6686\n",
      "Epoch 22/50\n",
      "6092/6092 [==============================] - 1s 160us/step - loss: 0.6064 - accuracy: 0.6738 - val_loss: 0.6081 - val_accuracy: 0.6673\n",
      "Epoch 23/50\n",
      "6092/6092 [==============================] - 1s 161us/step - loss: 0.6074 - accuracy: 0.6679 - val_loss: 0.6108 - val_accuracy: 0.6686\n",
      "Epoch 24/50\n",
      "6092/6092 [==============================] - 1s 162us/step - loss: 0.6089 - accuracy: 0.6656 - val_loss: 0.6210 - val_accuracy: 0.6673\n",
      "Epoch 25/50\n",
      "6092/6092 [==============================] - 1s 164us/step - loss: 0.6072 - accuracy: 0.6651 - val_loss: 0.6158 - val_accuracy: 0.6634\n",
      "Epoch 26/50\n",
      "6092/6092 [==============================] - 1s 178us/step - loss: 0.6073 - accuracy: 0.6673 - val_loss: 0.6182 - val_accuracy: 0.6608\n",
      "Epoch 27/50\n",
      "6092/6092 [==============================] - 1s 170us/step - loss: 0.6103 - accuracy: 0.6668 - val_loss: 0.6158 - val_accuracy: 0.6706\n",
      "Epoch 28/50\n",
      "6092/6092 [==============================] - 1s 167us/step - loss: 0.6052 - accuracy: 0.6686 - val_loss: 0.6066 - val_accuracy: 0.6673\n",
      "Epoch 29/50\n",
      "6092/6092 [==============================] - 1s 165us/step - loss: 0.6052 - accuracy: 0.6689 - val_loss: 0.6170 - val_accuracy: 0.6608\n",
      "Epoch 30/50\n",
      "6092/6092 [==============================] - 1s 165us/step - loss: 0.6084 - accuracy: 0.6655 - val_loss: 0.6101 - val_accuracy: 0.6614\n",
      "Epoch 31/50\n",
      "6092/6092 [==============================] - 1s 169us/step - loss: 0.6068 - accuracy: 0.6714 - val_loss: 0.6065 - val_accuracy: 0.6621\n",
      "Epoch 32/50\n",
      "6092/6092 [==============================] - 1s 161us/step - loss: 0.6034 - accuracy: 0.6756 - val_loss: 0.6288 - val_accuracy: 0.6496\n",
      "Epoch 33/50\n",
      "6092/6092 [==============================] - 1s 162us/step - loss: 0.6022 - accuracy: 0.6750 - val_loss: 0.6097 - val_accuracy: 0.6647\n",
      "Epoch 34/50\n",
      "6092/6092 [==============================] - 1s 164us/step - loss: 0.6023 - accuracy: 0.6686 - val_loss: 0.6380 - val_accuracy: 0.6391\n",
      "Epoch 35/50\n",
      "6092/6092 [==============================] - 1s 181us/step - loss: 0.6034 - accuracy: 0.6697 - val_loss: 0.6052 - val_accuracy: 0.6693\n",
      "Epoch 36/50\n",
      "6092/6092 [==============================] - 1s 173us/step - loss: 0.6039 - accuracy: 0.6735 - val_loss: 0.6032 - val_accuracy: 0.6627\n",
      "Epoch 37/50\n",
      "6092/6092 [==============================] - 1s 165us/step - loss: 0.6028 - accuracy: 0.6691 - val_loss: 0.6111 - val_accuracy: 0.6772\n",
      "Epoch 38/50\n",
      "6092/6092 [==============================] - 1s 166us/step - loss: 0.6048 - accuracy: 0.6701 - val_loss: 0.6052 - val_accuracy: 0.6640\n",
      "Epoch 39/50\n",
      "6092/6092 [==============================] - 1s 164us/step - loss: 0.6044 - accuracy: 0.6706 - val_loss: 0.6146 - val_accuracy: 0.6640\n",
      "Epoch 40/50\n",
      "6092/6092 [==============================] - 1s 164us/step - loss: 0.6028 - accuracy: 0.6743 - val_loss: 0.6063 - val_accuracy: 0.6686\n",
      "Epoch 41/50\n",
      "6092/6092 [==============================] - 1s 168us/step - loss: 0.6064 - accuracy: 0.6689 - val_loss: 0.6043 - val_accuracy: 0.6640\n",
      "Epoch 42/50\n",
      "6092/6092 [==============================] - 1s 165us/step - loss: 0.6051 - accuracy: 0.6666 - val_loss: 0.6074 - val_accuracy: 0.6732\n",
      "Epoch 43/50\n",
      "6092/6092 [==============================] - 1s 166us/step - loss: 0.6023 - accuracy: 0.6724 - val_loss: 0.6095 - val_accuracy: 0.6693\n",
      "Epoch 44/50\n",
      "6092/6092 [==============================] - 1s 162us/step - loss: 0.6013 - accuracy: 0.6735 - val_loss: 0.6210 - val_accuracy: 0.6699\n",
      "Epoch 45/50\n",
      "6092/6092 [==============================] - 1s 164us/step - loss: 0.6022 - accuracy: 0.6747 - val_loss: 0.6043 - val_accuracy: 0.6811\n",
      "Epoch 46/50\n",
      "6092/6092 [==============================] - 1s 164us/step - loss: 0.6064 - accuracy: 0.6669 - val_loss: 0.6108 - val_accuracy: 0.6706\n",
      "Epoch 47/50\n",
      "6092/6092 [==============================] - 1s 173us/step - loss: 0.6024 - accuracy: 0.6623 - val_loss: 0.6040 - val_accuracy: 0.6647\n",
      "Epoch 48/50\n",
      "6092/6092 [==============================] - 1s 183us/step - loss: 0.5997 - accuracy: 0.6737 - val_loss: 0.6097 - val_accuracy: 0.6699\n",
      "Epoch 49/50\n",
      "6092/6092 [==============================] - 1s 167us/step - loss: 0.5983 - accuracy: 0.6802 - val_loss: 0.6218 - val_accuracy: 0.6647\n",
      "Epoch 50/50\n",
      "6092/6092 [==============================] - 1s 166us/step - loss: 0.6018 - accuracy: 0.6696 - val_loss: 0.6217 - val_accuracy: 0.6713\n"
     ]
    },
    {
     "ename": "ValueError",
     "evalue": "Error when checking target: expected dropout_26 to have shape (1,) but got array with shape (2,)",
     "output_type": "error",
     "traceback": [
      "\u001b[1;31m---------------------------------------------------------------------------\u001b[0m",
      "\u001b[1;31mValueError\u001b[0m                                Traceback (most recent call last)",
      "\u001b[1;32m<ipython-input-104-a092d9cbe098>\u001b[0m in \u001b[0;36m<module>\u001b[1;34m()\u001b[0m\n\u001b[0;32m     18\u001b[0m \u001b[1;33m\u001b[0m\u001b[0m\n\u001b[0;32m     19\u001b[0m \u001b[1;31m# Print the Evaluation of the Model\u001b[0m\u001b[1;33m\u001b[0m\u001b[1;33m\u001b[0m\u001b[0m\n\u001b[1;32m---> 20\u001b[1;33m \u001b[0mprint\u001b[0m\u001b[1;33m(\u001b[0m\u001b[1;34m'Loss, Acc for Test Set:'\u001b[0m\u001b[1;33m,\u001b[0m \u001b[0mmodel\u001b[0m\u001b[1;33m.\u001b[0m\u001b[0mevaluate\u001b[0m\u001b[1;33m(\u001b[0m\u001b[0mx_test\u001b[0m\u001b[1;33m,\u001b[0m\u001b[0mtest_y_2\u001b[0m\u001b[1;33m)\u001b[0m\u001b[1;33m)\u001b[0m\u001b[1;33m\u001b[0m\u001b[0m\n\u001b[0m\u001b[0;32m     21\u001b[0m \u001b[0mprint\u001b[0m\u001b[1;33m(\u001b[0m\u001b[1;33m)\u001b[0m\u001b[1;33m\u001b[0m\u001b[0m\n\u001b[0;32m     22\u001b[0m \u001b[0mprint\u001b[0m\u001b[1;33m(\u001b[0m\u001b[1;34m'Loss, Acc for Whole Set:'\u001b[0m\u001b[1;33m,\u001b[0m \u001b[0mmodel\u001b[0m\u001b[1;33m.\u001b[0m\u001b[0mevaluate\u001b[0m\u001b[1;33m(\u001b[0m\u001b[0mpreprocessing\u001b[0m\u001b[1;33m.\u001b[0m\u001b[0mnormalize\u001b[0m\u001b[1;33m(\u001b[0m\u001b[0mdata\u001b[0m\u001b[1;33m.\u001b[0m\u001b[0mvalues\u001b[0m\u001b[1;33m)\u001b[0m\u001b[1;33m,\u001b[0m \u001b[0mwhole_y\u001b[0m\u001b[1;33m)\u001b[0m\u001b[1;33m)\u001b[0m\u001b[1;33m\u001b[0m\u001b[0m\n",
      "\u001b[1;32m~\\Anaconda3\\lib\\site-packages\\keras\\engine\\training.py\u001b[0m in \u001b[0;36mevaluate\u001b[1;34m(self, x, y, batch_size, verbose, sample_weight, steps, callbacks, max_queue_size, workers, use_multiprocessing)\u001b[0m\n\u001b[0;32m   1347\u001b[0m             \u001b[0mx\u001b[0m\u001b[1;33m,\u001b[0m \u001b[0my\u001b[0m\u001b[1;33m,\u001b[0m\u001b[1;33m\u001b[0m\u001b[0m\n\u001b[0;32m   1348\u001b[0m             \u001b[0msample_weight\u001b[0m\u001b[1;33m=\u001b[0m\u001b[0msample_weight\u001b[0m\u001b[1;33m,\u001b[0m\u001b[1;33m\u001b[0m\u001b[0m\n\u001b[1;32m-> 1349\u001b[1;33m             batch_size=batch_size)\n\u001b[0m\u001b[0;32m   1350\u001b[0m         \u001b[1;31m# Prepare inputs, delegate logic to `test_loop`.\u001b[0m\u001b[1;33m\u001b[0m\u001b[1;33m\u001b[0m\u001b[0m\n\u001b[0;32m   1351\u001b[0m         \u001b[1;32mif\u001b[0m \u001b[0mself\u001b[0m\u001b[1;33m.\u001b[0m\u001b[0m_uses_dynamic_learning_phase\u001b[0m\u001b[1;33m(\u001b[0m\u001b[1;33m)\u001b[0m\u001b[1;33m:\u001b[0m\u001b[1;33m\u001b[0m\u001b[0m\n",
      "\u001b[1;32m~\\Anaconda3\\lib\\site-packages\\keras\\engine\\training.py\u001b[0m in \u001b[0;36m_standardize_user_data\u001b[1;34m(self, x, y, sample_weight, class_weight, check_array_lengths, batch_size)\u001b[0m\n\u001b[0;32m    619\u001b[0m                 \u001b[0mfeed_output_shapes\u001b[0m\u001b[1;33m,\u001b[0m\u001b[1;33m\u001b[0m\u001b[0m\n\u001b[0;32m    620\u001b[0m                 \u001b[0mcheck_batch_axis\u001b[0m\u001b[1;33m=\u001b[0m\u001b[1;32mFalse\u001b[0m\u001b[1;33m,\u001b[0m  \u001b[1;31m# Don't enforce the batch size.\u001b[0m\u001b[1;33m\u001b[0m\u001b[0m\n\u001b[1;32m--> 621\u001b[1;33m                 exception_prefix='target')\n\u001b[0m\u001b[0;32m    622\u001b[0m \u001b[1;33m\u001b[0m\u001b[0m\n\u001b[0;32m    623\u001b[0m             \u001b[1;31m# Generate sample-wise weight values given the `sample_weight` and\u001b[0m\u001b[1;33m\u001b[0m\u001b[1;33m\u001b[0m\u001b[0m\n",
      "\u001b[1;32m~\\Anaconda3\\lib\\site-packages\\keras\\engine\\training_utils.py\u001b[0m in \u001b[0;36mstandardize_input_data\u001b[1;34m(data, names, shapes, check_batch_axis, exception_prefix)\u001b[0m\n\u001b[0;32m    143\u001b[0m                             \u001b[1;34m': expected '\u001b[0m \u001b[1;33m+\u001b[0m \u001b[0mnames\u001b[0m\u001b[1;33m[\u001b[0m\u001b[0mi\u001b[0m\u001b[1;33m]\u001b[0m \u001b[1;33m+\u001b[0m \u001b[1;34m' to have shape '\u001b[0m \u001b[1;33m+\u001b[0m\u001b[1;33m\u001b[0m\u001b[0m\n\u001b[0;32m    144\u001b[0m                             \u001b[0mstr\u001b[0m\u001b[1;33m(\u001b[0m\u001b[0mshape\u001b[0m\u001b[1;33m)\u001b[0m \u001b[1;33m+\u001b[0m \u001b[1;34m' but got array with shape '\u001b[0m \u001b[1;33m+\u001b[0m\u001b[1;33m\u001b[0m\u001b[0m\n\u001b[1;32m--> 145\u001b[1;33m                             str(data_shape))\n\u001b[0m\u001b[0;32m    146\u001b[0m     \u001b[1;32mreturn\u001b[0m \u001b[0mdata\u001b[0m\u001b[1;33m\u001b[0m\u001b[0m\n\u001b[0;32m    147\u001b[0m \u001b[1;33m\u001b[0m\u001b[0m\n",
      "\u001b[1;31mValueError\u001b[0m: Error when checking target: expected dropout_26 to have shape (1,) but got array with shape (2,)"
     ]
    }
   ],
   "source": [
    "#create model\n",
    "model_2 = keras.Sequential()\n",
    "\n",
    "#get number of columns in training data\n",
    "n_cols_2 = x_train.shape[1]\n",
    "\n",
    "#add layers to model\n",
    "model_2.add(keras.layers.Dense(250, activation='relu', input_shape=(n_cols_2,)))\n",
    "model_2.add(keras.layers.Dense(300, activation='relu'))\n",
    "model.add(keras.layers.Dropout(rate=0.2))\n",
    "model_2.add(keras.layers.Dense(250, activation='relu'))\n",
    "model_2.add(keras.layers.Dense(2, activation='softmax'))\n",
    "\n",
    "#compile model using accuracy to measure model performance\n",
    "model_2.compile(optimizer='adam', loss='categorical_crossentropy', metrics=['accuracy'])\n",
    "#train model\n",
    "model_2.fit(x_train, train_y_2, epochs=50, validation_split=0.2)\n",
    "\n",
    "# Print the Evaluation of the Model\n",
    "print('Loss, Acc for Test Set:', model.evaluate(x_test,test_y_2))\n",
    "print()\n",
    "print('Loss, Acc for Whole Set:', model.evaluate(preprocessing.normalize(data.values), whole_y))"
   ]
  },
  {
   "cell_type": "code",
   "execution_count": 61,
   "metadata": {},
   "outputs": [
    {
     "name": "stdout",
     "output_type": "stream",
     "text": [
      "[[0]\n",
      " [0]\n",
      " [1]\n",
      " ...\n",
      " [1]\n",
      " [1]\n",
      " [1]]\n"
     ]
    }
   ],
   "source": [
    "Weight = model.model.predict_classes(preprocessing.normalize(dtest.values))\n",
    "print(Weight)"
   ]
  },
  {
   "cell_type": "code",
   "execution_count": 72,
   "metadata": {},
   "outputs": [],
   "source": [
    "Weight2 = model.model.predict_classes(preprocessing.normalize(dtest.values))"
   ]
  },
  {
   "cell_type": "code",
   "execution_count": 68,
   "metadata": {},
   "outputs": [],
   "source": [
    "ls = []\n",
    "for i in Weight:\n",
    "    ls.append(i[0])"
   ]
  },
  {
   "cell_type": "code",
   "execution_count": 73,
   "metadata": {},
   "outputs": [],
   "source": [
    "ls2 = []\n",
    "for i in Weight2:\n",
    "    ls2.append(i[0])"
   ]
  },
  {
   "cell_type": "code",
   "execution_count": 74,
   "metadata": {},
   "outputs": [
    {
     "data": {
      "text/plain": [
       "Counter({1: 1648})"
      ]
     },
     "execution_count": 74,
     "metadata": {},
     "output_type": "execute_result"
    }
   ],
   "source": [
    "collections.Counter(ls2)"
   ]
  },
  {
   "cell_type": "code",
   "execution_count": 69,
   "metadata": {},
   "outputs": [
    {
     "data": {
      "text/plain": [
       "Counter({0: 585, 1: 1063})"
      ]
     },
     "execution_count": 69,
     "metadata": {},
     "output_type": "execute_result"
    }
   ],
   "source": [
    "collections.Counter(ls)"
   ]
  },
  {
   "cell_type": "markdown",
   "metadata": {},
   "source": [
    "## Submission"
   ]
  },
  {
   "cell_type": "code",
   "execution_count": 26,
   "metadata": {},
   "outputs": [
    {
     "data": {
      "text/plain": [
       "Counter({1: 1349, 0: 299})"
      ]
     },
     "execution_count": 26,
     "metadata": {},
     "output_type": "execute_result"
    }
   ],
   "source": [
    "collections.Counter(sub)"
   ]
  },
  {
   "cell_type": "code",
   "execution_count": null,
   "metadata": {},
   "outputs": [],
   "source": [
    "htwins = []\n",
    "for i in range(len(sub)):\n",
    "    if sub[i] == 0: \n",
    "        htwins.append('No')\n",
    "    else:\n",
    "        htwins.append('Yes')\n",
    "sub_pred = pd.DataFrame({'id':df2.loc[:,'id'],'HTWins':htwins})\n",
    "\n",
    "sub_pred.to_csv(\"submission_boost.csv\", index = False)"
   ]
  }
 ],
 "metadata": {
  "kernelspec": {
   "display_name": "Python 3",
   "language": "python",
   "name": "python3"
  },
  "language_info": {
   "codemirror_mode": {
    "name": "ipython",
    "version": 3
   },
   "file_extension": ".py",
   "mimetype": "text/x-python",
   "name": "python",
   "nbconvert_exporter": "python",
   "pygments_lexer": "ipython3",
   "version": "3.7.0"
  }
 },
 "nbformat": 4,
 "nbformat_minor": 2
}
